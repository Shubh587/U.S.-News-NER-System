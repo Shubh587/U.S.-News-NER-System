{
  "nbformat": 4,
  "nbformat_minor": 0,
  "metadata": {
    "colab": {
      "provenance": []
    },
    "kernelspec": {
      "name": "python3",
      "display_name": "Python 3"
    },
    "language_info": {
      "name": "python"
    }
  },
  "cells": [
    {
      "cell_type": "code",
      "execution_count": null,
      "metadata": {
        "id": "FFOiNNeP0giN"
      },
      "outputs": [],
      "source": [
        "import spacy"
      ]
    },
    {
      "cell_type": "code",
      "source": [
        "# Download the large version of the SpaCy NER model\n",
        "!python -m spacy download en_core_web_lg\n",
        "\n",
        "# !python -m spacy download en_core_web_sm ---- for if we want to use a small model"
      ],
      "metadata": {
        "id": "enIOTr8y6hf9"
      },
      "execution_count": null,
      "outputs": []
    },
    {
      "cell_type": "code",
      "source": [
        "demo_model = spacy.load(\"en_core_web_lg\")"
      ],
      "metadata": {
        "id": "GGlQY8Ro2hw6"
      },
      "execution_count": null,
      "outputs": []
    },
    {
      "cell_type": "code",
      "source": [
        "# Running an example to show the standard model without training\n",
        "results = demo_model(\"My name is Mirna Ashour and I live in NYC\")"
      ],
      "metadata": {
        "id": "uGingzbmvgnL"
      },
      "execution_count": null,
      "outputs": []
    },
    {
      "cell_type": "markdown",
      "source": [],
      "metadata": {
        "id": "laewO3rhySiO"
      }
    },
    {
      "cell_type": "code",
      "source": [
        "# Use .ents to access entities within an object of type DocBin returned by model\n",
        "results.ents"
      ],
      "metadata": {
        "colab": {
          "base_uri": "https://localhost:8080/"
        },
        "id": "y7WS3fl38D_0",
        "outputId": "7485e95d-856d-4c0c-aa88-7a75e1ceb953"
      },
      "execution_count": null,
      "outputs": [
        {
          "output_type": "execute_result",
          "data": {
            "text/plain": [
              "(Mirna Ashour, NYC)"
            ]
          },
          "metadata": {},
          "execution_count": 18
        }
      ]
    },
    {
      "cell_type": "code",
      "source": [
        "# Can use built in functions to render the results visually with color-coded tagging\n",
        "from spacy import displacy\n",
        "displacy.render(results, style=\"ent\", jupyter=True)"
      ],
      "metadata": {
        "colab": {
          "base_uri": "https://localhost:8080/",
          "height": 52
        },
        "id": "5ou7-MtW8gXW",
        "outputId": "3cd0fb67-5a9a-4044-fe6b-73a967c1fc17"
      },
      "execution_count": null,
      "outputs": [
        {
          "output_type": "display_data",
          "data": {
            "text/plain": [
              "<IPython.core.display.HTML object>"
            ],
            "text/html": [
              "<span class=\"tex2jax_ignore\"><div class=\"entities\" style=\"line-height: 2.5; direction: ltr\">My name is \n",
              "<mark class=\"entity\" style=\"background: #aa9cfc; padding: 0.45em 0.6em; margin: 0 0.25em; line-height: 1; border-radius: 0.35em;\">\n",
              "    Mirna Ashour\n",
              "    <span style=\"font-size: 0.8em; font-weight: bold; line-height: 1; border-radius: 0.35em; vertical-align: middle; margin-left: 0.5rem\">PERSON</span>\n",
              "</mark>\n",
              " and I live in \n",
              "<mark class=\"entity\" style=\"background: #feca74; padding: 0.45em 0.6em; margin: 0 0.25em; line-height: 1; border-radius: 0.35em;\">\n",
              "    NYC\n",
              "    <span style=\"font-size: 0.8em; font-weight: bold; line-height: 1; border-radius: 0.35em; vertical-align: middle; margin-left: 0.5rem\">GPE</span>\n",
              "</mark>\n",
              "</div></span>"
            ]
          },
          "metadata": {}
        }
      ]
    },
    {
      "cell_type": "code",
      "source": [
        "training_data = []\n",
        "# Training data needs to be in the following format:\n",
        "\n",
        "#   An array of dictionaries that have two keys: text and entities\n",
        "#   The text key should map to a string carrying one headline\n",
        "#   The entities key should map to an array of tuples that the start and end span values for the labeled entities along with their label\n",
        "\n",
        "# [{\n",
        "#    'text': \"Headline in one string\",\n",
        "#\n",
        "#    'entities': [(span_start_num, span_end_num, 'entity_label'),\n",
        "#                 (span_start_num, span_end_num, 'entity_label'),\n",
        "#                 ...]\n",
        "#   },\n",
        "#   ...\n",
        "# ]"
      ],
      "metadata": {
        "id": "vkdIOEq6szHd"
      },
      "execution_count": null,
      "outputs": []
    },
    {
      "cell_type": "code",
      "source": [
        "# Imports the DocBin object and a blank verison of the standard NER model\n",
        "from spacy.tokens import DocBin\n",
        "from tqdm import tqdm\n",
        "\n",
        "blank_model = spacy.blank(\"en\")\n",
        "doc_bin = DocBin()"
      ],
      "metadata": {
        "id": "3yx9V6Y3xxQj"
      },
      "execution_count": null,
      "outputs": []
    },
    {
      "cell_type": "code",
      "source": [
        "# Prepare training data for model by converting it into DocBin format\n",
        "from spacy.util import filter_spans\n",
        "\n",
        "for headline  in tqdm(training_data):\n",
        "    text = headline['text']\n",
        "    labels = headline['entities']\n",
        "    doc = blank_model.make_doc(text)\n",
        "    entities = []\n",
        "    for start, end, label in labels:\n",
        "        span = doc.char_span(start, end, label=label, alignment_mode=\"contract\")\n",
        "        if span is None:\n",
        "            print(\"Skipping entity\")\n",
        "        else:\n",
        "            entities.append(span)\n",
        "    filtered_entities = filter_spans(entities)\n",
        "    doc.ents = filtered_entities\n",
        "    doc_bin.add(doc)\n",
        "\n",
        "doc_bin.to_disk(\"train.spacy\")"
      ],
      "metadata": {
        "id": "RaEDWg-HyAhg"
      },
      "execution_count": null,
      "outputs": []
    },
    {
      "cell_type": "code",
      "source": [
        "# Generate a config file for the model before training\n",
        "!python -m spacy init fill-config base_config.cfg config.cfg"
      ],
      "metadata": {
        "id": "ExmjLD8GzFek"
      },
      "execution_count": null,
      "outputs": []
    },
    {
      "cell_type": "code",
      "source": [
        "# Train the model and save to current directory under \"train.spacy\"\n",
        "!python -m spacy train config.cfg --output ./ --paths.train ./train.spacy --paths.dev ./train.spacy"
      ],
      "metadata": {
        "id": "avAvTR24zK26"
      },
      "execution_count": null,
      "outputs": []
    },
    {
      "cell_type": "code",
      "source": [
        "# Best version of model is saved and is now ready to use by passing in data to be labelled and return in DocBin format\n",
        "custom_ner_model = spacy.load(\"model-best\")"
      ],
      "metadata": {
        "id": "TYl2m7jlza83"
      },
      "execution_count": null,
      "outputs": []
    }
  ]
}